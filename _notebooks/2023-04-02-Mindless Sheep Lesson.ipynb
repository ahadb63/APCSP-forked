{
 "cells": [
  {
   "attachments": {},
   "cell_type": "markdown",
   "metadata": {},
   "source": [
    "# Data Analysis including Numpy and Pandas (Big Idea 2)\n",
    "> Includes a deeper analysis; importance of data and how to incldue predictive analysis in data.\n",
    "- title: 4/17/23 Big Idea 2: Numpy and Pandas (Data Analysis)\n",
    "- toc: true\n",
    "- tags: [lesson]\n",
    "- type: ap\n",
    "- week: 30"
   ]
  }
 ],
 "metadata": {
  "language_info": {
   "name": "python"
  },
  "orig_nbformat": 4
 },
 "nbformat": 4,
 "nbformat_minor": 2
}
